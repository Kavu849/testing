{
 "cells": [
  {
   "cell_type": "code",
   "execution_count": 9,
   "id": "e642c557-3158-4c9f-8246-b7e748608325",
   "metadata": {
    "tags": []
   },
   "outputs": [
    {
     "data": {
      "text/html": [
       "\n",
       "        <iframe\n",
       "            width=\"100%\"\n",
       "            height=\"650\"\n",
       "            src=\"http://127.0.0.1:8050/\"\n",
       "            frameborder=\"0\"\n",
       "            allowfullscreen\n",
       "            \n",
       "        ></iframe>\n",
       "        "
      ],
      "text/plain": [
       "<IPython.lib.display.IFrame at 0x11d6cf24810>"
      ]
     },
     "metadata": {},
     "output_type": "display_data"
    }
   ],
   "source": [
    "# Import required libraries\n",
    "import pandas as pd\n",
    "import dash\n",
    "import dash_html_components as html\n",
    "import dash_core_components as dcc\n",
    "from dash.dependencies import Input, Output\n",
    "import plotly.express as px\n",
    "\n",
    "# Read the airline data into pandas dataframe\n",
    "spacex_df = pd.read_csv(\"spacex_launch_dash.csv\")\n",
    "max_payload = spacex_df['Payload Mass (kg)'].max()\n",
    "min_payload = spacex_df['Payload Mass (kg)'].min()\n",
    "sites = list(pd.unique(spacex_df['Launch Site']))\n",
    "\n",
    "slider_ticks = list(range(0, 10001, 1000))\n",
    "slider_marks = {}\n",
    "for i in slider_ticks:\n",
    "    slider_marks[i] = str(i)\n",
    "\n",
    "# Create a dash application\n",
    "app = dash.Dash(__name__)\n",
    "\n",
    "# Create an app layout\n",
    "app.layout = html.Div(children=[html.H1('SpaceX Launch Records Dashboard',\n",
    "                                        style={'textAlign': 'center', 'color': '#503D36',\n",
    "                                               'font-size': 40}),\n",
    "                                # TASK 1: Add a dropdown list to enable Launch Site selection\n",
    "                                # The default select value is for ALL sites\n",
    "                                dcc.Dropdown(id = 'site-dropdown', \n",
    "                                             options = [\n",
    "                                                 {'label': 'All Sites', 'value': 'ALL'},\n",
    "                                                 {'label': sites[0], 'value': sites[0]},\n",
    "                                                 {'label': sites[1], 'value': sites[1]},\n",
    "                                                 {'label': sites[2], 'value': sites[2]},\n",
    "                                                 {'label': sites[3], 'value': sites[3]},\n",
    "                                             ],\n",
    "                                             value = 'ALL',\n",
    "                                             placeholder = 'Choose Site',\n",
    "                                             searchable = True\n",
    "                                            ),\n",
    "                                html.Br(),\n",
    "\n",
    "                                # TASK 2: Add a pie chart to show the total successful launches count for all sites\n",
    "                                # If a specific launch site was selected, show the Success vs. Failed counts for the site\n",
    "                                html.Div(dcc.Graph(id = 'success-pie-chart')),\n",
    "                                html.Br(),\n",
    "\n",
    "                                html.P(\"Payload range (Kg):\"),\n",
    "                                # TASK 3: Add a slider to select payload range\n",
    "                                dcc.RangeSlider(id = 'payload-slider', \n",
    "                                                min = 0, max = 10000, step = 1000,\n",
    "                                                marks = slider_marks,\n",
    "                                                value=[min_payload, max_payload]),\n",
    "\n",
    "                                # TASK 4: Add a scatter chart to show the correlation between payload and launch success\n",
    "                                html.Div(dcc.Graph(id = 'success-payload-scatter-chart')),\n",
    "                                ])\n",
    "\n",
    "# TASK 2:\n",
    "# Add a callback function for `site-dropdown` as input, `success-pie-chart` as output\n",
    "@app.callback(Output(component_id = 'success-pie-chart', component_property='figure'),\n",
    "               Input(component_id = 'site-dropdown', component_property = 'value'))\n",
    "def get_pie_chart(entered_site):\n",
    "    if entered_site == 'ALL':\n",
    "        fig = px.pie(spacex_df, values = 'class', names = 'Launch Site', title = 'Total Success Launches By Site')\n",
    "        return fig\n",
    "    else:\n",
    "        site = entered_site\n",
    "        site_df = spacex_df[spacex_df['Launch Site'] == site]\n",
    "        fig = px.pie(site_df, names = 'class', title = f'Total Success Launches for site {site}')\n",
    "        return fig\n",
    "    \n",
    "# TASK 4:\n",
    "# Add a callback function for `site-dropdown` and `payload-slider` as inputs, `success-payload-scatter-chart` as output\n",
    "@app.callback(Output(component_id = 'success-payload-scatter-chart', component_property='figure'),\n",
    "              Input(component_id = 'site-dropdown', component_property = 'value'),\n",
    "              Input(component_id = 'payload-slider', component_property = 'value')\n",
    "             )\n",
    "def get_scatter(entered_site, slider_values):\n",
    "    min_val = slider_values[0]\n",
    "    max_val = slider_values[1]\n",
    "    if entered_site == 'ALL':\n",
    "        filtered_mass_df = spacex_df[(spacex_df['Payload Mass (kg)'] > min_val) & (spacex_df['Payload Mass (kg)'] < max_val)]\n",
    "        fig = px.scatter(filtered_mass_df, x = 'Payload Mass (kg)', y = 'class', color = 'Booster Version Category', title = 'Correlation between Payload and Success for all Sites')\n",
    "        return fig\n",
    "    else:\n",
    "        filtered_mass_df = spacex_df[(spacex_df['Payload Mass (kg)'] > min_val) & (spacex_df['Payload Mass (kg)'] < max_val) & (spacex_df['Launch Site'] == entered_site)]\n",
    "        fig = px.scatter(filtered_mass_df, x = 'Payload Mass (kg)', y = 'class', color = 'Booster Version Category', title = f'Correlation between Payload and Success for Site {entered_site}')\n",
    "        return fig\n",
    "\n",
    "# Run the app\n",
    "if __name__ == '__main__':\n",
    "    app.run_server()\n"
   ]
  },
  {
   "cell_type": "code",
   "execution_count": null,
   "id": "4e280898-0665-4aec-af36-d2160148f159",
   "metadata": {},
   "outputs": [],
   "source": []
  }
 ],
 "metadata": {
  "kernelspec": {
   "display_name": "Python 3 (ipykernel)",
   "language": "python",
   "name": "python3"
  },
  "language_info": {
   "codemirror_mode": {
    "name": "ipython",
    "version": 3
   },
   "file_extension": ".py",
   "mimetype": "text/x-python",
   "name": "python",
   "nbconvert_exporter": "python",
   "pygments_lexer": "ipython3",
   "version": "3.11.2"
  }
 },
 "nbformat": 4,
 "nbformat_minor": 5
}

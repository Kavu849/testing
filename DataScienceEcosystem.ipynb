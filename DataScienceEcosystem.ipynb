{
 "cells": [
  {
   "cell_type": "markdown",
   "id": "0ce8ef47-d261-463b-a175-1e1f411c06df",
   "metadata": {},
   "source": [
    "# Data Science Tools and Ecosystem"
   ]
  },
  {
   "cell_type": "markdown",
   "id": "4df57aa0-562e-4b21-a2b3-d74cb52b37ea",
   "metadata": {},
   "source": [
    "## Author:\n",
    "Szymon"
   ]
  },
  {
   "cell_type": "markdown",
   "id": "f96d97b7-e952-4a16-bf34-bf25b6fea89a",
   "metadata": {
    "tags": []
   },
   "source": [
    "In this notebook, Data Science Tools and Ecosystem are summarized."
   ]
  },
  {
   "cell_type": "markdown",
   "id": "086f1ef8-aa14-48bc-9760-573617b11bb4",
   "metadata": {},
   "source": [
    "**Objectives:**\n",
    "- List popular languages in Data Science\n",
    "- List commonly used libraries in Data Science\n",
    "- Provide examples of using markdown in Jupter"
   ]
  },
  {
   "cell_type": "markdown",
   "id": "d2ebc4a6-87f1-49aa-8223-7534e7f66236",
   "metadata": {},
   "source": [
    "Some of the popular languages that Data Scientists use are:\n",
    "1. Python\n",
    "2. R\n",
    "3. Julia"
   ]
  },
  {
   "cell_type": "markdown",
   "id": "f57f0df3-851a-47df-96cf-771c66654cdc",
   "metadata": {},
   "source": [
    "Some of the commonly used libraries used by Data Scientists include:\n",
    "1. Pandas\n",
    "2. Tensorflow\n",
    "3. Scikit-learn"
   ]
  },
  {
   "cell_type": "markdown",
   "id": "779eca1b-8aec-44c3-880c-6898c06580e9",
   "metadata": {},
   "source": [
    "| Data Science Tools |\n",
    "| ------------------ |\n",
    "| MySQL |\n",
    "| Apache AirFlow |\n",
    "| Hue |"
   ]
  },
  {
   "cell_type": "markdown",
   "id": "52c2ef51-0b9d-492d-a441-d2cea7383934",
   "metadata": {},
   "source": [
    "### Below are a few examples of evaluating arithmetic expressions in Python"
   ]
  },
  {
   "cell_type": "markdown",
   "id": "b4e5c077-27f8-4ec0-8b29-6008e369bf0c",
   "metadata": {},
   "source": [
    "This a simple arithmetic expression to mutiply then add integers"
   ]
  },
  {
   "cell_type": "code",
   "execution_count": 2,
   "id": "345a80dc-d899-4885-a468-bf46c5094167",
   "metadata": {
    "tags": []
   },
   "outputs": [
    {
     "data": {
      "text/plain": [
       "17"
      ]
     },
     "execution_count": 2,
     "metadata": {},
     "output_type": "execute_result"
    }
   ],
   "source": [
    "(3*4)+5"
   ]
  },
  {
   "cell_type": "markdown",
   "id": "167ad895-8e15-4fdb-b359-c26b8a6699f5",
   "metadata": {},
   "source": [
    "This will convert 200 minutes to hours by diving by 60"
   ]
  },
  {
   "cell_type": "code",
   "execution_count": 3,
   "id": "2e676692-097e-4de8-8f2f-33bade0a7528",
   "metadata": {
    "tags": []
   },
   "outputs": [
    {
     "data": {
      "text/plain": [
       "3.3333333333333335"
      ]
     },
     "execution_count": 3,
     "metadata": {},
     "output_type": "execute_result"
    }
   ],
   "source": [
    "200 / 60"
   ]
  },
  {
   "cell_type": "code",
   "execution_count": null,
   "id": "683cc3b6-457a-4fe7-b199-d5c643d29a0f",
   "metadata": {},
   "outputs": [],
   "source": []
  }
 ],
 "metadata": {
  "kernelspec": {
   "display_name": "Python 3 (ipykernel)",
   "language": "python",
   "name": "python3"
  },
  "language_info": {
   "codemirror_mode": {
    "name": "ipython",
    "version": 3
   },
   "file_extension": ".py",
   "mimetype": "text/x-python",
   "name": "python",
   "nbconvert_exporter": "python",
   "pygments_lexer": "ipython3",
   "version": "3.11.2"
  }
 },
 "nbformat": 4,
 "nbformat_minor": 5
}
